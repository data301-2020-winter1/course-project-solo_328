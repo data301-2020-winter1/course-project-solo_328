{
 "cells": [
  {
   "cell_type": "markdown",
   "metadata": {},
   "source": [
    "# Process Data"
   ]
  },
  {
   "cell_type": "code",
   "execution_count": 61,
   "metadata": {},
   "outputs": [],
   "source": [
    "import pandas as pd\n",
    "import numpy as np\n",
    "import seaborn as sns\n",
    "import matplotlib.pyplot as plt"
   ]
  },
  {
   "cell_type": "code",
   "execution_count": 67,
   "metadata": {},
   "outputs": [],
   "source": [
    "import os\n",
    "import sys\n",
    "sys.path.insert(0, r'C:\\Data\\UBCO\\DATA 301\\Project\\course-project-solo_328\\analysis\\Scripts')\n",
    "    \n",
    "from project_functions import *"
   ]
  },
  {
   "cell_type": "code",
   "execution_count": 74,
   "metadata": {},
   "outputs": [],
   "source": [
    "US_YT = load_and_process(r\"C:\\Data\\UBCO\\DATA 301\\Project\\course-project-solo_328\\data\\raw\\Youtube_data\\USvideos.csv\")\n",
    "GB_YT = load_and_process(r\"C:\\Data\\UBCO\\DATA 301\\Project\\course-project-solo_328\\data\\raw\\Youtube_data\\GBvideos.csv\")\n",
    "FR_YT = load_and_process(r\"C:\\Data\\UBCO\\DATA 301\\Project\\course-project-solo_328\\data\\raw\\Youtube_data\\FRvideos.csv\")"
   ]
  },
  {
   "cell_type": "code",
   "execution_count": 75,
   "metadata": {},
   "outputs": [],
   "source": [
    "\n",
    "import datetime as dt\n",
    "new_US_YT = US_YT.assign(Publish_Date = pd.to_datetime(US_YT['publish_time']))\n",
    "new_US_YT = US_YT.assign(Publish_Date = new_US_YT['Publish_Date'].dt.date)\n",
    "new_US_YT['Publish_Date'] = pd.to_datetime(new_US_YT['Publish_Date'])"
   ]
  },
  {
   "cell_type": "code",
   "execution_count": 76,
   "metadata": {},
   "outputs": [],
   "source": [
    "old_list = list(US_YT['trending_date'])\n",
    "new_list = []\n",
    "import datetime\n",
    "for i in old_list:\n",
    "    new_list.append(datetime.datetime.strptime(i, '%y.%d.%m'))\n",
    "    \n",
    "new_US_YT['Trend_Date'] = new_list\n"
   ]
  },
  {
   "cell_type": "code",
   "execution_count": 94,
   "metadata": {},
   "outputs": [
    {
     "data": {
      "text/plain": [
       "['trending_date',\n",
       " 'title',\n",
       " 'channel_title',\n",
       " 'category_id',\n",
       " 'publish_time',\n",
       " 'views',\n",
       " 'likes',\n",
       " 'dislikes',\n",
       " 'comment_count',\n",
       " 'Count_Upper',\n",
       " 'Publish_Date',\n",
       " 'Trend_Date',\n",
       " 'Days_Taken']"
      ]
     },
     "execution_count": 94,
     "metadata": {},
     "output_type": "execute_result"
    }
   ],
   "source": [
    "new_US_YT.drop(columns=['trending_date', 'publish_time'])\n",
    "list(new_US_YT.columns)"
   ]
  },
  {
   "cell_type": "code",
   "execution_count": 83,
   "metadata": {},
   "outputs": [],
   "source": [
    "Days_Taken = new_US_YT['Trend_Date'] - new_US_YT['Publish_Date']\n",
    "new_US_YT['Days_Taken'] = Days_Taken.dt.days"
   ]
  },
  {
   "cell_type": "code",
   "execution_count": 84,
   "metadata": {},
   "outputs": [],
   "source": [
    "Categories_dict = {1:\"Film & Animation\", 2:\"Vehicles\", 10:\"Music\", 15:\"Pets & Animals\", 17:\"Sports\", 18:\"Short Movies\", 19:\"Travel & Events\", 20:\"Gaming\", 21:\"Videoblogging\", 22:\"People\", 23:\"Comedy\", 24:\"Entertainment\", 25:\"News & Politics\", 26:\"Howto & Style\", 27:\"Education\", 28:\"Science & Tech\", 29:\"Nonprofits & Activity\", 30:\"Movies\", 31:\"Animation\", 32:\"Action\",33:\"Classics\", 34:\"Comedy\", 35:\"Documentary\", 36:\"Drama\", 37:\"Family\", 38:\"Foreign\", 39:\"Horror\", 40:\"Sci Fi\", 41:\"Thriller\", 42:\"Shorts\", 43:\"Shows\", 44:\"Trailers\"}\n"
   ]
  },
  {
   "cell_type": "code",
   "execution_count": 85,
   "metadata": {},
   "outputs": [],
   "source": [
    "US_YT['Categories']= US_YT['category_id'].map(Categories_dict)\n",
    "GB_YT['Categories']= GB_YT['category_id'].map(Categories_dict)\n",
    "FR_YT['Categories']= FR_YT['category_id'].map(Categories_dict)"
   ]
  },
  {
   "cell_type": "code",
   "execution_count": 86,
   "metadata": {},
   "outputs": [],
   "source": [
    "#Count of each category \n",
    "Count_Cat_US = US_YT['Categories'].value_counts()\n",
    "Count_Cat_GB = GB_YT['Categories'].value_counts()\n",
    "Count_Cat_FR = FR_YT['Categories'].value_counts()\n",
    "\n",
    "#Total number of videos\n",
    "Total_US = len(US_YT.index)\n",
    "Total_GB = len(GB_YT.index)\n",
    "Total_FR = len(FR_YT.index)"
   ]
  },
  {
   "cell_type": "code",
   "execution_count": 87,
   "metadata": {},
   "outputs": [],
   "source": [
    "#Percentage of each category\n",
    "Percentage_US = round(Count_Cat_US/Total_US*100)\n",
    "Percentage_GB = round(Count_Cat_GB/Total_GB*100)\n",
    "Percentage_FR = round(Count_Cat_FR/Total_FR*100)"
   ]
  },
  {
   "cell_type": "code",
   "execution_count": 88,
   "metadata": {},
   "outputs": [
    {
     "data": {
      "text/html": [
       "<div>\n",
       "<style scoped>\n",
       "    .dataframe tbody tr th:only-of-type {\n",
       "        vertical-align: middle;\n",
       "    }\n",
       "\n",
       "    .dataframe tbody tr th {\n",
       "        vertical-align: top;\n",
       "    }\n",
       "\n",
       "    .dataframe thead th {\n",
       "        text-align: right;\n",
       "    }\n",
       "</style>\n",
       "<table border=\"1\" class=\"dataframe\">\n",
       "  <thead>\n",
       "    <tr style=\"text-align: right;\">\n",
       "      <th></th>\n",
       "      <th>Percentage</th>\n",
       "      <th>Categories</th>\n",
       "    </tr>\n",
       "  </thead>\n",
       "  <tbody>\n",
       "    <tr>\n",
       "      <th>0</th>\n",
       "      <td>24.0</td>\n",
       "      <td>Entertainment</td>\n",
       "    </tr>\n",
       "    <tr>\n",
       "      <th>1</th>\n",
       "      <td>16.0</td>\n",
       "      <td>Music</td>\n",
       "    </tr>\n",
       "    <tr>\n",
       "      <th>2</th>\n",
       "      <td>10.0</td>\n",
       "      <td>Howto &amp; Style</td>\n",
       "    </tr>\n",
       "    <tr>\n",
       "      <th>3</th>\n",
       "      <td>9.0</td>\n",
       "      <td>Comedy</td>\n",
       "    </tr>\n",
       "    <tr>\n",
       "      <th>4</th>\n",
       "      <td>8.0</td>\n",
       "      <td>People</td>\n",
       "    </tr>\n",
       "    <tr>\n",
       "      <th>5</th>\n",
       "      <td>6.0</td>\n",
       "      <td>News &amp; Politics</td>\n",
       "    </tr>\n",
       "    <tr>\n",
       "      <th>6</th>\n",
       "      <td>6.0</td>\n",
       "      <td>Science &amp; Tech</td>\n",
       "    </tr>\n",
       "    <tr>\n",
       "      <th>7</th>\n",
       "      <td>6.0</td>\n",
       "      <td>Film &amp; Animation</td>\n",
       "    </tr>\n",
       "    <tr>\n",
       "      <th>8</th>\n",
       "      <td>5.0</td>\n",
       "      <td>Sports</td>\n",
       "    </tr>\n",
       "    <tr>\n",
       "      <th>9</th>\n",
       "      <td>4.0</td>\n",
       "      <td>Education</td>\n",
       "    </tr>\n",
       "    <tr>\n",
       "      <th>10</th>\n",
       "      <td>2.0</td>\n",
       "      <td>Pets &amp; Animals</td>\n",
       "    </tr>\n",
       "    <tr>\n",
       "      <th>11</th>\n",
       "      <td>2.0</td>\n",
       "      <td>Gaming</td>\n",
       "    </tr>\n",
       "    <tr>\n",
       "      <th>12</th>\n",
       "      <td>1.0</td>\n",
       "      <td>Travel &amp; Events</td>\n",
       "    </tr>\n",
       "    <tr>\n",
       "      <th>13</th>\n",
       "      <td>1.0</td>\n",
       "      <td>Vehicles</td>\n",
       "    </tr>\n",
       "    <tr>\n",
       "      <th>14</th>\n",
       "      <td>0.0</td>\n",
       "      <td>Shows</td>\n",
       "    </tr>\n",
       "    <tr>\n",
       "      <th>15</th>\n",
       "      <td>0.0</td>\n",
       "      <td>Nonprofits &amp; Activity</td>\n",
       "    </tr>\n",
       "  </tbody>\n",
       "</table>\n",
       "</div>"
      ],
      "text/plain": [
       "    Percentage             Categories\n",
       "0         24.0          Entertainment\n",
       "1         16.0                  Music\n",
       "2         10.0          Howto & Style\n",
       "3          9.0                 Comedy\n",
       "4          8.0                 People\n",
       "5          6.0        News & Politics\n",
       "6          6.0         Science & Tech\n",
       "7          6.0       Film & Animation\n",
       "8          5.0                 Sports\n",
       "9          4.0              Education\n",
       "10         2.0         Pets & Animals\n",
       "11         2.0                 Gaming\n",
       "12         1.0        Travel & Events\n",
       "13         1.0               Vehicles\n",
       "14         0.0                  Shows\n",
       "15         0.0  Nonprofits & Activity"
      ]
     },
     "execution_count": 88,
     "metadata": {},
     "output_type": "execute_result"
    }
   ],
   "source": [
    "Percentage_US = pd.Series.to_frame(Percentage_US, name='Percentage').reset_index()\n",
    "Category_list = list(Percentage_US['index'])\n",
    "Percentage_US['Categories'] = Category_list\n",
    "Percentage_US.drop(columns = ['index'])\n"
   ]
  },
  {
   "cell_type": "code",
   "execution_count": 89,
   "metadata": {},
   "outputs": [],
   "source": [
    "lista = new_US_YT['Days_Taken'].to_list()\n",
    "list_new = []\n",
    "for i in lista:\n",
    "    if i >= 10:\n",
    "        list_new.append('10+')\n",
    "    else:\n",
    "        list_new.append(i)\n",
    "\n",
    "Days_Taken_US = pd.DataFrame(list_new, columns = ['Days_Taken'])\n"
   ]
  },
  {
   "cell_type": "code",
   "execution_count": null,
   "metadata": {},
   "outputs": [],
   "source": []
  },
  {
   "cell_type": "code",
   "execution_count": 93,
   "metadata": {},
   "outputs": [],
   "source": [
    "Percentage_FR.to_csv(r'C:\\Data\\UBCO\\DATA 301\\Project\\percentage_FR.csv')"
   ]
  },
  {
   "cell_type": "code",
   "execution_count": 91,
   "metadata": {},
   "outputs": [],
   "source": [
    "Days_Taken_US.to_csv(r'C:\\Data\\UBCO\\DATA 301\\Project\\DaysT_US.csv')"
   ]
  },
  {
   "cell_type": "code",
   "execution_count": 56,
   "metadata": {},
   "outputs": [],
   "source": [
    "Youtube_CA.to_csv(r'C:\\Data\\UBCO\\DATA 301\\Project\\YT_CA.csv')"
   ]
  },
  {
   "cell_type": "code",
   "execution_count": null,
   "metadata": {},
   "outputs": [],
   "source": []
  }
 ],
 "metadata": {
  "kernelspec": {
   "display_name": "Python 3",
   "language": "python",
   "name": "python3"
  },
  "language_info": {
   "codemirror_mode": {
    "name": "ipython",
    "version": 3
   },
   "file_extension": ".py",
   "mimetype": "text/x-python",
   "name": "python",
   "nbconvert_exporter": "python",
   "pygments_lexer": "ipython3",
   "version": "3.8.3"
  }
 },
 "nbformat": 4,
 "nbformat_minor": 4
}
